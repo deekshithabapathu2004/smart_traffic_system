{
 "cells": [
  {
   "cell_type": "code",
   "execution_count": 5,
   "id": "4b6ab4c1-c42c-41b2-abde-d6f4ac390a6d",
   "metadata": {},
   "outputs": [
    {
     "name": "stdout",
     "output_type": "stream",
     "text": [
      "Attempting to load data from: ..\\data\\raw\\pems-bay.h5\n",
      "Keys inside the 'speed' group: ['axis0', 'axis1', 'block0_items', 'block0_values']\n",
      "Shape of traffic_data array: (52116, 325)\n",
      "Data type: float64\n",
      "\n",
      "First 5 sensors' data for the first 5 time steps:\n",
      "[[71.4 67.8 70.5 67.4 68.8]\n",
      " [71.6 67.5 70.6 67.5 68.7]\n",
      " [71.6 67.6 70.2 67.4 68.7]\n",
      " [71.1 67.5 70.3 68.  68.5]\n",
      " [71.7 67.8 70.2 68.1 68.4]]\n"
     ]
    }
   ],
   "source": [
    "import numpy as np\n",
    "import pandas as pd\n",
    "import h5py # For HDF5 files\n",
    "import os\n",
    "\n",
    "# Define the file path to our raw data.\n",
    "file_path = os.path.join('..', 'data', 'raw', 'pems-bay.h5')\n",
    "\n",
    "print(f\"Attempting to load data from: {file_path}\")\n",
    "\n",
    "try:\n",
    "    # Use h5py to open the file\n",
    "    with h5py.File(file_path, 'r') as hf:\n",
    "        # We now know 'speed' is a group, not the dataset itself.\n",
    "        # Let's open the group and list its contents to find the actual data array.\n",
    "        if 'speed' in hf:\n",
    "            speed_group = hf['speed']\n",
    "            print(f\"Keys inside the 'speed' group: {list(speed_group.keys())}\")\n",
    "\n",
    "            # The actual data is usually under a key like 'block0_values' or similar\n",
    "            # Let's check for that.\n",
    "            if 'block0_values' in speed_group:\n",
    "                traffic_data = speed_group['block0_values']\n",
    "                print(f\"Shape of traffic_data array: {traffic_data.shape}\")\n",
    "                print(f\"Data type: {traffic_data.dtype}\")\n",
    "                print(\"\\nFirst 5 sensors' data for the first 5 time steps:\")\n",
    "                print(traffic_data[:5, :5])\n",
    "            else:\n",
    "                print(\"The 'block0_values' key was not found inside the 'speed' group. The data structure may be different.\")\n",
    "\n",
    "        else:\n",
    "            print(\"The 'speed' key was not found. The dataset structure may be different.\")\n",
    "\n",
    "except FileNotFoundError:\n",
    "    print(f\"Error: The file {file_path} was not found. Please check the file path and name.\")\n",
    "except Exception as e:\n",
    "    print(f\"An error occurred: {e}\")"
   ]
  },
  {
   "cell_type": "code",
   "execution_count": null,
   "id": "089d6a6a-5050-4ef2-b641-cf5a7730ca3d",
   "metadata": {},
   "outputs": [],
   "source": []
  }
 ],
 "metadata": {
  "kernelspec": {
   "display_name": "Python 3 (ipykernel)",
   "language": "python",
   "name": "python3"
  },
  "language_info": {
   "codemirror_mode": {
    "name": "ipython",
    "version": 3
   },
   "file_extension": ".py",
   "mimetype": "text/x-python",
   "name": "python",
   "nbconvert_exporter": "python",
   "pygments_lexer": "ipython3",
   "version": "3.9.23"
  }
 },
 "nbformat": 4,
 "nbformat_minor": 5
}
